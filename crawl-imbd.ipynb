{
 "cells": [
  {
   "cell_type": "code",
   "execution_count": 28,
   "metadata": {
    "collapsed": true
   },
   "outputs": [],
   "source": [
    "from bs4 import BeautifulSoup as bs\n",
    "import requests\n",
    "import pandas as pd"
   ]
  },
  {
   "cell_type": "code",
   "execution_count": 8,
   "metadata": {
    "collapsed": true
   },
   "outputs": [],
   "source": [
    "# Set url to scrape\n",
    "url = \"http://www.imdb.com/news/top\""
   ]
  },
  {
   "cell_type": "code",
   "execution_count": 9,
   "metadata": {
    "collapsed": true
   },
   "outputs": [],
   "source": [
    "# Set request\n",
    "result = requests.get(url)\n",
    "content = result.content"
   ]
  },
  {
   "cell_type": "code",
   "execution_count": 25,
   "metadata": {
    "collapsed": false
   },
   "outputs": [
    {
     "name": "stdout",
     "output_type": "stream",
     "text": [
      "[[\"Weekend Preview: 'Deadpool' Targets #1 Opening Over 'How to Be Single' & 'Zoolander 2'\"], [\"Record Breaker? Some Box Office Records 'Deadpool' May Be Hunting\"], ['Michael Pena Adds Voice to Oscar Diversity Controversy'], ['‘The Big Bang Theory’ Valentine’s Day Episode Drops a Big Bombshell (Spoilers)'], [\"Candice Bergen Says Her Date with Donald Trump Was 'Short' - but She Does Remember His Burgundy Limo\"], ['AMC to Air Live After-Shows Following Premiere', ' Finale of ‘Better Call Saul’'], ['‘The Walking Dead’s’ Emily Kinney Joins ABC Drama Pilot ‘Conviction’'], ['Syfy Greenlights ‘Prototype’ Pilot from ’24’  Writer'], ['‘The View’ Hosts Slam Hillary Clinton’s Debate Jacket as ‘North Korean Chic’ (Video)'], ['Fox’s Bret Baier Presses DNC Chair About Fox News Hosting Democratic Debate'], ['Berlin Film Review: ‘I', ' Olga Hepnarova’'], [\"Morgan's 'all life matters' philosophy isn't changing any time soon on 'The Walking Dead'\"], ['Ted Cruz’s New Hillary Clinton Attack Ad Parodies ‘Office Space’ (Video)'], ['International Exec You Should Know: Stephane Celerier'], ['‘The Walking Dead’ Star Andrew Lincoln Hints at ‘Heartbreaking’ Episodes to Come'], ['Asc Career Honoree John Toll Learned From the Best'], ['Watch a Third Grader Wish Sarah Palin Happy Birthday on ‘Kimmel’ (Video)'], ['Asc Chief Richard Crudo Holds Forth on Heart of Profession as 30th D.P. Gala Approaches'], ['Brazil’s Rt Features Give U.S. Independent Films a Boost'], ['Taylor Swift Fans Lash Out at ‘Dumb’ Kanye West for Rapping He ‘Made That Bitch Famous’'], ['Top News'], ['Movie News'], ['TV News'], ['Celebrity News']]\n"
     ]
    }
   ],
   "source": [
    "# Beautiful Soup parse html\n",
    "soup = bs(content, \"html.parser\")\n",
    "headlines = soup.findAll(\"h2\")\n",
    "\n",
    "data = []\n",
    "\n",
    "for headline in headlines:\n",
    "    headline = headline.get_text()\n",
    "    data.append(headline)\n",
    "    \n",
    "data = [i.split(',') for i in data]\n",
    "print(data)"
   ]
  },
  {
   "cell_type": "code",
   "execution_count": 50,
   "metadata": {
    "collapsed": false
   },
   "outputs": [],
   "source": [
    "columns = ['Headline','None']\n",
    "df = pd.DataFrame(data, columns=columns)"
   ]
  },
  {
   "cell_type": "code",
   "execution_count": 51,
   "metadata": {
    "collapsed": false
   },
   "outputs": [
    {
     "data": {
      "text/html": [
       "<div>\n",
       "<table border=\"1\" class=\"dataframe\">\n",
       "  <thead>\n",
       "    <tr style=\"text-align: right;\">\n",
       "      <th></th>\n",
       "      <th>Headline</th>\n",
       "    </tr>\n",
       "  </thead>\n",
       "  <tbody>\n",
       "    <tr>\n",
       "      <th>0</th>\n",
       "      <td>Weekend Preview: 'Deadpool' Targets #1 Opening...</td>\n",
       "    </tr>\n",
       "    <tr>\n",
       "      <th>1</th>\n",
       "      <td>Record Breaker? Some Box Office Records 'Deadp...</td>\n",
       "    </tr>\n",
       "    <tr>\n",
       "      <th>2</th>\n",
       "      <td>Michael Pena Adds Voice to Oscar Diversity Con...</td>\n",
       "    </tr>\n",
       "    <tr>\n",
       "      <th>3</th>\n",
       "      <td>‘The Big Bang Theory’ Valentine’s Day Episode ...</td>\n",
       "    </tr>\n",
       "    <tr>\n",
       "      <th>4</th>\n",
       "      <td>Candice Bergen Says Her Date with Donald Trump...</td>\n",
       "    </tr>\n",
       "    <tr>\n",
       "      <th>5</th>\n",
       "      <td>AMC to Air Live After-Shows Following Premiere</td>\n",
       "    </tr>\n",
       "    <tr>\n",
       "      <th>6</th>\n",
       "      <td>‘The Walking Dead’s’ Emily Kinney Joins ABC Dr...</td>\n",
       "    </tr>\n",
       "    <tr>\n",
       "      <th>7</th>\n",
       "      <td>Syfy Greenlights ‘Prototype’ Pilot from ’24’  ...</td>\n",
       "    </tr>\n",
       "    <tr>\n",
       "      <th>8</th>\n",
       "      <td>‘The View’ Hosts Slam Hillary Clinton’s Debate...</td>\n",
       "    </tr>\n",
       "    <tr>\n",
       "      <th>9</th>\n",
       "      <td>Fox’s Bret Baier Presses DNC Chair About Fox N...</td>\n",
       "    </tr>\n",
       "    <tr>\n",
       "      <th>10</th>\n",
       "      <td>Berlin Film Review: ‘I</td>\n",
       "    </tr>\n",
       "    <tr>\n",
       "      <th>11</th>\n",
       "      <td>Morgan's 'all life matters' philosophy isn't c...</td>\n",
       "    </tr>\n",
       "    <tr>\n",
       "      <th>12</th>\n",
       "      <td>Ted Cruz’s New Hillary Clinton Attack Ad Parod...</td>\n",
       "    </tr>\n",
       "    <tr>\n",
       "      <th>13</th>\n",
       "      <td>International Exec You Should Know: Stephane C...</td>\n",
       "    </tr>\n",
       "    <tr>\n",
       "      <th>14</th>\n",
       "      <td>‘The Walking Dead’ Star Andrew Lincoln Hints a...</td>\n",
       "    </tr>\n",
       "    <tr>\n",
       "      <th>15</th>\n",
       "      <td>Asc Career Honoree John Toll Learned From the ...</td>\n",
       "    </tr>\n",
       "    <tr>\n",
       "      <th>16</th>\n",
       "      <td>Watch a Third Grader Wish Sarah Palin Happy Bi...</td>\n",
       "    </tr>\n",
       "    <tr>\n",
       "      <th>17</th>\n",
       "      <td>Asc Chief Richard Crudo Holds Forth on Heart o...</td>\n",
       "    </tr>\n",
       "    <tr>\n",
       "      <th>18</th>\n",
       "      <td>Brazil’s Rt Features Give U.S. Independent Fil...</td>\n",
       "    </tr>\n",
       "    <tr>\n",
       "      <th>19</th>\n",
       "      <td>Taylor Swift Fans Lash Out at ‘Dumb’ Kanye Wes...</td>\n",
       "    </tr>\n",
       "    <tr>\n",
       "      <th>20</th>\n",
       "      <td>Top News</td>\n",
       "    </tr>\n",
       "    <tr>\n",
       "      <th>21</th>\n",
       "      <td>Movie News</td>\n",
       "    </tr>\n",
       "    <tr>\n",
       "      <th>22</th>\n",
       "      <td>TV News</td>\n",
       "    </tr>\n",
       "    <tr>\n",
       "      <th>23</th>\n",
       "      <td>Celebrity News</td>\n",
       "    </tr>\n",
       "  </tbody>\n",
       "</table>\n",
       "</div>"
      ],
      "text/plain": [
       "                                             Headline\n",
       "0   Weekend Preview: 'Deadpool' Targets #1 Opening...\n",
       "1   Record Breaker? Some Box Office Records 'Deadp...\n",
       "2   Michael Pena Adds Voice to Oscar Diversity Con...\n",
       "3   ‘The Big Bang Theory’ Valentine’s Day Episode ...\n",
       "4   Candice Bergen Says Her Date with Donald Trump...\n",
       "5      AMC to Air Live After-Shows Following Premiere\n",
       "6   ‘The Walking Dead’s’ Emily Kinney Joins ABC Dr...\n",
       "7   Syfy Greenlights ‘Prototype’ Pilot from ’24’  ...\n",
       "8   ‘The View’ Hosts Slam Hillary Clinton’s Debate...\n",
       "9   Fox’s Bret Baier Presses DNC Chair About Fox N...\n",
       "10                             Berlin Film Review: ‘I\n",
       "11  Morgan's 'all life matters' philosophy isn't c...\n",
       "12  Ted Cruz’s New Hillary Clinton Attack Ad Parod...\n",
       "13  International Exec You Should Know: Stephane C...\n",
       "14  ‘The Walking Dead’ Star Andrew Lincoln Hints a...\n",
       "15  Asc Career Honoree John Toll Learned From the ...\n",
       "16  Watch a Third Grader Wish Sarah Palin Happy Bi...\n",
       "17  Asc Chief Richard Crudo Holds Forth on Heart o...\n",
       "18  Brazil’s Rt Features Give U.S. Independent Fil...\n",
       "19  Taylor Swift Fans Lash Out at ‘Dumb’ Kanye Wes...\n",
       "20                                           Top News\n",
       "21                                         Movie News\n",
       "22                                            TV News\n",
       "23                                     Celebrity News"
      ]
     },
     "execution_count": 51,
     "metadata": {},
     "output_type": "execute_result"
    }
   ],
   "source": [
    "df[[0]]"
   ]
  }
 ],
 "metadata": {
  "kernelspec": {
   "display_name": "Python 3",
   "language": "python",
   "name": "python3"
  },
  "language_info": {
   "codemirror_mode": {
    "name": "ipython",
    "version": 3
   },
   "file_extension": ".py",
   "mimetype": "text/x-python",
   "name": "python",
   "nbconvert_exporter": "python",
   "pygments_lexer": "ipython3",
   "version": "3.5.1"
  }
 },
 "nbformat": 4,
 "nbformat_minor": 0
}
