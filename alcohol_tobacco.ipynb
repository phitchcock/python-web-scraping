{
 "cells": [
  {
   "cell_type": "code",
   "execution_count": 21,
   "metadata": {
    "collapsed": true
   },
   "outputs": [],
   "source": [
    "# Import Packages\n",
    "import pandas as pd\n",
    "from bs4 import BeautifulSoup as bs\n",
    "import requests\n",
    "import re\n",
    "from scipy import stats"
   ]
  },
  {
   "cell_type": "code",
   "execution_count": 2,
   "metadata": {
    "collapsed": true
   },
   "outputs": [],
   "source": [
    "# Set url to scrape\n",
    "url = \"http://lib.stat.cmu.edu/DASL/Datafiles/AlcoholandTobacco.html\""
   ]
  },
  {
   "cell_type": "code",
   "execution_count": 19,
   "metadata": {
    "collapsed": false
   },
   "outputs": [
    {
     "name": "stdout",
     "output_type": "stream",
     "text": [
      "<pre>\n",
      "Region\tAlcohol\tTobacco\n",
      "North\t6.47\t4.03\n",
      "Yorkshire\t6.13\t3.76\n",
      "Northeast\t6.19\t3.77\n",
      "East Midlands\t4.89\t3.34\n",
      "West Midlands\t5.63\t3.47\n",
      "East Anglia\t4.52\t2.92\n",
      "Southeast\t5.89\t3.20\n",
      "Southwest\t4.79\t2.71\n",
      "Wales\t5.27\t3.53\n",
      "Scotland\t6.08\t4.51\n",
      "Northern Ireland\t4.02\t4.56\n",
      "\n",
      "</pre>\n"
     ]
    }
   ],
   "source": [
    "# Set request\n",
    "result = requests.get(url)\n",
    "content = result.content\n",
    "\n",
    "# Beautiful Soup parse html\n",
    "soup = bs(content, \"html.parser\")\n",
    "stats = str(soup.find(\"pre\"))\n",
    "print(stats)"
   ]
  },
  {
   "cell_type": "code",
   "execution_count": 20,
   "metadata": {
    "collapsed": false
   },
   "outputs": [
    {
     "name": "stdout",
     "output_type": "stream",
     "text": [
      "[['<pre>'], ['Region\\tAlcohol\\tTobacco'], ['North\\t6.47\\t4.03'], ['Yorkshire\\t6.13\\t3.76'], ['Northeast\\t6.19\\t3.77'], ['East Midlands\\t4.89\\t3.34'], ['West Midlands\\t5.63\\t3.47'], ['East Anglia\\t4.52\\t2.92'], ['Southeast\\t5.89\\t3.20'], ['Southwest\\t4.79\\t2.71'], ['Wales\\t5.27\\t3.53'], ['Scotland\\t6.08\\t4.51'], ['Northern Ireland\\t4.02\\t4.56'], [''], ['</pre>']]\n"
     ]
    }
   ],
   "source": [
    "# Split into list\n",
    "data = stats.splitlines()\n",
    "data = [i.split(',') for i in data]\n",
    "print(data)"
   ]
  },
  {
   "cell_type": "code",
   "execution_count": 6,
   "metadata": {
    "collapsed": true
   },
   "outputs": [],
   "source": [
    "striped_data = []"
   ]
  },
  {
   "cell_type": "code",
   "execution_count": 18,
   "metadata": {
    "collapsed": false
   },
   "outputs": [
    {
     "name": "stdout",
     "output_type": "stream",
     "text": [
      "[['Region', 'Alcohol', 'Tobacco'], ['North', '6.47', '4.03'], ['Yorkshire', '6.13', '3.76'], ['Northeast', '6.19', '3.77'], ['East Midlands', '4.89', '3.34'], ['West Midlands', '5.63', '3.47'], ['East Anglia', '4.52', '2.92'], ['Southeast', '5.89', '3.20'], ['Southwest', '4.79', '2.71'], ['Wales', '5.27', '3.53'], ['Scotland', '6.08', '4.51'], ['Northern Ireland', '4.02', '4.56'], ['<pre>'], ['Region', 'Alcohol', 'Tobacco'], ['North', '6.47', '4.03'], ['Yorkshire', '6.13', '3.76'], ['Northeast', '6.19', '3.77'], ['East Midlands', '4.89', '3.34'], ['West Midlands', '5.63', '3.47'], ['East Anglia', '4.52', '2.92'], ['Southeast', '5.89', '3.20'], ['Southwest', '4.79', '2.71'], ['Wales', '5.27', '3.53'], ['Scotland', '6.08', '4.51'], ['Northern Ireland', '4.02', '4.56'], [''], ['</pre>'], ['<pre>'], ['Region', 'Alcohol', 'Tobacco'], ['North', '6.47', '4.03'], ['Yorkshire', '6.13', '3.76'], ['Northeast', '6.19', '3.77'], ['East Midlands', '4.89', '3.34'], ['West Midlands', '5.63', '3.47'], ['East Anglia', '4.52', '2.92'], ['Southeast', '5.89', '3.20'], ['Southwest', '4.79', '2.71'], ['Wales', '5.27', '3.53'], ['Scotland', '6.08', '4.51'], ['Northern Ireland', '4.02', '4.56'], [''], ['</pre>']]\n"
     ]
    }
   ],
   "source": [
    "# Split string add to clean list\n",
    "for d in data:  \n",
    "    strip = d[0]\n",
    "    striped = re.split(r'\\t+', strip)\n",
    "    striped_data.append(striped)\n",
    "print(striped_data)"
   ]
  },
  {
   "cell_type": "code",
   "execution_count": 8,
   "metadata": {
    "collapsed": true
   },
   "outputs": [],
   "source": [
    "# Remove html and empty lists\n",
    "striped_data = striped_data[1:-2]"
   ]
  },
  {
   "cell_type": "code",
   "execution_count": 9,
   "metadata": {
    "collapsed": true
   },
   "outputs": [],
   "source": [
    "# Setup DataFrame\n",
    "column_names = striped_data[0]\n",
    "data_rows = striped_data[1::]\n",
    "df = pd.DataFrame(data_rows, columns=column_names)"
   ]
  },
  {
   "cell_type": "code",
   "execution_count": 10,
   "metadata": {
    "collapsed": false
   },
   "outputs": [
    {
     "name": "stdout",
     "output_type": "stream",
     "text": [
      "              Region Alcohol Tobacco\n",
      "0              North    6.47    4.03\n",
      "1          Yorkshire    6.13    3.76\n",
      "2          Northeast    6.19    3.77\n",
      "3      East Midlands    4.89    3.34\n",
      "4      West Midlands    5.63    3.47\n",
      "5        East Anglia    4.52    2.92\n",
      "6          Southeast    5.89    3.20\n",
      "7          Southwest    4.79    2.71\n",
      "8              Wales    5.27    3.53\n",
      "9           Scotland    6.08    4.51\n",
      "10  Northern Ireland    4.02    4.56\n"
     ]
    }
   ],
   "source": [
    "print(df)"
   ]
  },
  {
   "cell_type": "code",
   "execution_count": 14,
   "metadata": {
    "collapsed": false
   },
   "outputs": [],
   "source": [
    "# Convert columns to floats\n",
    "df['Alcohol'] = df['Alcohol'].astype(float)\n",
    "df['Tobacco'] = df['Tobacco'].astype(float)"
   ]
  },
  {
   "cell_type": "code",
   "execution_count": 15,
   "metadata": {
    "collapsed": true
   },
   "outputs": [],
   "source": [
    "# Set variables for Range\n",
    "sd = max(df['Alcohol']) - min(df['Alcohol'])\n",
    "sd_tobacco = max(df['Tobacco']) - min(df['Tobacco'])"
   ]
  },
  {
   "cell_type": "code",
   "execution_count": 22,
   "metadata": {
    "collapsed": false
   },
   "outputs": [
    {
     "name": "stdout",
     "output_type": "stream",
     "text": [
      "Alcohol mean: 5.44363636364\n",
      "Alcohol median: 5.63\n",
      "ModeResult(mode=array([ 4.02]), count=array([1]))\n",
      "Tobacco mean: 3.61818181818\n",
      "Tobacco median: 3.53\n",
      "Range: 2.45\n",
      "Standard Deviation: 0.797762780873\n",
      "Variance: 0.636425454545\n",
      "Range Tobacco: 1.85\n",
      "Standard Deviation Tobacco: 0.590708357514\n",
      "Variance Tobacco: 0.348936363636\n"
     ]
    }
   ],
   "source": [
    "# Print Results\n",
    "print(\"Alcohol mean: %s\" % df['Alcohol'].mean())\n",
    "print(\"Alcohol median: %s\" % df['Alcohol'].median())\n",
    "print(\"Tobacco mean: %s\" % df['Tobacco'].mean())\n",
    "print(\"Tobacco median: %s\" % df['Tobacco'].median())\n",
    "print(\"Range: %s\" % sd)\n",
    "print(\"Standard Deviation: %s\" % df['Alcohol'].std())\n",
    "print(\"Variance: %s\" % df['Alcohol'].var())\n",
    "print(\"Range Tobacco: %s\" % sd_tobacco)\n",
    "print(\"Standard Deviation Tobacco: %s\" % df['Tobacco'].std())\n",
    "print(\"Variance Tobacco: %s\" % df['Tobacco'].var())"
   ]
  },
  {
   "cell_type": "code",
   "execution_count": null,
   "metadata": {
    "collapsed": true
   },
   "outputs": [],
   "source": []
  }
 ],
 "metadata": {
  "kernelspec": {
   "display_name": "Python 3",
   "language": "python",
   "name": "python3"
  },
  "language_info": {
   "codemirror_mode": {
    "name": "ipython",
    "version": 3
   },
   "file_extension": ".py",
   "mimetype": "text/x-python",
   "name": "python",
   "nbconvert_exporter": "python",
   "pygments_lexer": "ipython3",
   "version": "3.5.1"
  }
 },
 "nbformat": 4,
 "nbformat_minor": 0
}
