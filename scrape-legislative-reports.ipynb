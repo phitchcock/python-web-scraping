{
 "cells": [
  {
   "cell_type": "code",
   "execution_count": 1,
   "metadata": {
    "collapsed": true
   },
   "outputs": [],
   "source": [
    "# Import packages\n",
    "from bs4 import BeautifulSoup\n",
    "import requests\n",
    "import pandas as pd"
   ]
  },
  {
   "cell_type": "code",
   "execution_count": 2,
   "metadata": {
    "collapsed": true
   },
   "outputs": [],
   "source": [
    "# Set url\n",
    "url = 'http://www.ucop.edu/operating-budget/budgets-and-reports/legislative-reports/2013-14-legislative-session.html'"
   ]
  },
  {
   "cell_type": "code",
   "execution_count": 3,
   "metadata": {
    "collapsed": true
   },
   "outputs": [],
   "source": [
    "# Request content with requests\n",
    "result = requests.get(url)\n",
    "content = result.content"
   ]
  },
  {
   "cell_type": "code",
   "execution_count": 5,
   "metadata": {
    "collapsed": false
   },
   "outputs": [],
   "source": [
    "# Set BeautifulSoup object\n",
    "soup = BeautifulSoup(content, \"html.parser\")"
   ]
  },
  {
   "cell_type": "code",
   "execution_count": 6,
   "metadata": {
    "collapsed": true
   },
   "outputs": [],
   "source": [
    "# Find html\n",
    "summary = soup.find('div', {'class':'list-land', 'id':'content'})\n",
    "tables = summary.find_all('table')"
   ]
  },
  {
   "cell_type": "code",
   "execution_count": 27,
   "metadata": {
    "collapsed": false
   },
   "outputs": [
    {
     "data": {
      "text/plain": [
       "['1',\n",
       " '08/01/13',\n",
       " '2013-14 (EDU 92495) Proposed Capital Outlay Projects (2013-14 only) (pdf)',\n",
       " '2',\n",
       " '09/01/13',\n",
       " '2014-15\\xa0 (EDU 92495) Proposed Capital Outlay Projects (pdf)',\n",
       " '3',\n",
       " '11/01/13',\n",
       " 'Utilization of Classroom and Teaching Laboratories (pdf)',\n",
       " '4',\n",
       " '11/01/13',\n",
       " 'Instruction and Research Space Summary & Analysis (pdf)',\n",
       " '5',\n",
       " '11/15/13',\n",
       " 'Statewide Energy Partnership Program (pdf)',\n",
       " '6',\n",
       " '11/30/13',\n",
       " '2013-23 Capital Financial Plan (pdf)',\n",
       " '7',\n",
       " '11/30/13',\n",
       " 'Projects Savings Funded from Capital Outlay Bond Funds (pdf)',\n",
       " '8',\n",
       " '12/01/13',\n",
       " 'Streamlined Capital Projects Funded from Capital (pdf)',\n",
       " '9',\n",
       " '01/01/14',\n",
       " 'Annual General Obligation Bonds Accountability (pdf)',\n",
       " '10',\n",
       " '01/01/14',\n",
       " 'Small Business Utilization (pdf)',\n",
       " '11',\n",
       " '01/01/14',\n",
       " 'Institutional Financial Aid Programs - Preliminary report (pdf)',\n",
       " '12',\n",
       " '01/10/14',\n",
       " 'Summer Enrollment (pdf)',\n",
       " '13',\n",
       " '01/15/14',\n",
       " 'Contracting Out for Services at Newly Developed Facilities (pdf)',\n",
       " '14',\n",
       " '03/01/14',\n",
       " 'Performance Measures (pdf)',\n",
       " '15',\n",
       " '03/01/14',\n",
       " 'Entry Level Writing Requirement (pdf)',\n",
       " '16',\n",
       " '03/31/14',\n",
       " 'Annual Report on Student\\xa0Financial Support (pdf)',\n",
       " '17',\n",
       " '04/01/14',\n",
       " 'Unique Statewide Pupil Identifier (pdf)',\n",
       " '18',\n",
       " '04/01/14',\n",
       " 'Riverside School of Medicine (pdf)',\n",
       " '19',\n",
       " '04/01/14',\n",
       " 'SAPEP Funds and Outcomes - N/A',\n",
       " '20',\n",
       " '05/15/14',\n",
       " 'Receipt and Use of Lottery Funds (pdf)',\n",
       " '21',\n",
       " '07/01/14',\n",
       " 'Cogeneration and Energy Consv Major Capital Projects (pdf)',\n",
       " '\\n',\n",
       " '\\n',\n",
       " '\\n',\n",
       " '\\xa0',\n",
       " 'Future Reports',\n",
       " '\\n',\n",
       " '24',\n",
       " '12-',\n",
       " 'Breast Cancer Research Fund',\n",
       " '25',\n",
       " '12-31-15',\n",
       " 'Cigarette and Tobacco Products Surtax Research Program',\n",
       " '26',\n",
       " '01-01-16',\n",
       " 'Best Value Program',\n",
       " '27',\n",
       " '01-01-16',\n",
       " 'California Subject Matter Programs',\n",
       " '28',\n",
       " '04-01-16',\n",
       " 'COSMOS Program Outcomes']"
      ]
     },
     "execution_count": 27,
     "metadata": {},
     "output_type": "execute_result"
    }
   ],
   "source": [
    "# Set empty list\n",
    "data = []\n",
    "\n",
    "# Set rows\n",
    "rows = tables[0].findAll('tr')\n",
    "\n",
    "# Grab every cell in every row\n",
    "for tr in rows:\n",
    "    cols = tr.findAll('td')\n",
    "    # Check if text is in row\n",
    "    for td in cols:\n",
    "        text = td.find(text=True)\n",
    "        data.append(text)\n",
    "data"
   ]
  },
  {
   "cell_type": "code",
   "execution_count": null,
   "metadata": {
    "collapsed": true
   },
   "outputs": [],
   "source": []
  },
  {
   "cell_type": "code",
   "execution_count": 34,
   "metadata": {
    "collapsed": false
   },
   "outputs": [
    {
     "name": "stdout",
     "output_type": "stream",
     "text": [
      "Reports: ['2013-14 (EDU 92495) Proposed Capital Outlay Projects (2013-14 only) (pdf)', '2014-15  (EDU 92495) Proposed Capital Outlay Projects (pdf)', 'Utilization of Classroom and Teaching Laboratories (pdf)', 'Instruction and Research Space Summary & Analysis (pdf)', 'Statewide Energy Partnership Program (pdf)', '2013-23 Capital Financial Plan (pdf)', 'Projects Savings Funded from Capital Outlay Bond Funds (pdf)', 'Streamlined Capital Projects Funded from Capital (pdf)', 'Annual General Obligation Bonds Accountability (pdf)', 'Small Business Utilization (pdf)', 'Institutional Financial Aid Programs - Preliminary report (pdf)', 'Summer Enrollment (pdf)', 'Contracting Out for Services at Newly Developed Facilities (pdf)', 'Performance Measures (pdf)', 'Entry Level Writing Requirement (pdf)', 'Annual Report on Student Financial Support (pdf)', 'Unique Statewide Pupil Identifier (pdf)', 'Riverside School of Medicine (pdf)', 'Receipt and Use of Lottery Funds (pdf)', 'Cogeneration and Energy Consv Major Capital Projects (pdf)']\n",
      " \n",
      "Dates: ['COSMOS Program Outcomes', 'COSMOS Program Outcomes', 'COSMOS Program Outcomes', 'COSMOS Program Outcomes', 'COSMOS Program Outcomes', 'COSMOS Program Outcomes', 'COSMOS Program Outcomes', 'COSMOS Program Outcomes', 'COSMOS Program Outcomes', 'COSMOS Program Outcomes', 'COSMOS Program Outcomes', 'COSMOS Program Outcomes', 'COSMOS Program Outcomes', 'COSMOS Program Outcomes', 'COSMOS Program Outcomes', 'COSMOS Program Outcomes', 'COSMOS Program Outcomes', 'COSMOS Program Outcomes', 'COSMOS Program Outcomes', 'COSMOS Program Outcomes']\n"
     ]
    }
   ],
   "source": [
    "# Set up empty lists\n",
    "reports = []\n",
    "date = []\n",
    "\n",
    "# Se tindex counter\n",
    "index = 0\n",
    "\n",
    "# Go find the pdf cells\n",
    "for item in data:\n",
    "    \n",
    "    if 'pdf' in item:\n",
    "        date.append(data[index-1])\n",
    "        reports.append(item.replace(u'\\xa0', u' '))\n",
    "print(\"Reports: %s\" % reports)\n",
    "print(\" \")\n",
    "print(\"Dates: %s\" % date)"
   ]
  },
  {
   "cell_type": "code",
   "execution_count": 36,
   "metadata": {
    "collapsed": false
   },
   "outputs": [],
   "source": [
    "# Set up Dates and Reports as Series\n",
    "date = pd.Series(date)\n",
    "reports = pd.Series(reports)"
   ]
  },
  {
   "cell_type": "code",
   "execution_count": 37,
   "metadata": {
    "collapsed": true
   },
   "outputs": [],
   "source": [
    "# Concatenate to DF\n",
    "legislative_df = pd.concat([date,reports],axis=1)"
   ]
  },
  {
   "cell_type": "code",
   "execution_count": 38,
   "metadata": {
    "collapsed": true
   },
   "outputs": [],
   "source": [
    "# Set up the columns\n",
    "legislative_df.columns = ['Date','Reports']"
   ]
  },
  {
   "cell_type": "code",
   "execution_count": null,
   "metadata": {
    "collapsed": true
   },
   "outputs": [],
   "source": []
  },
  {
   "cell_type": "code",
   "execution_count": null,
   "metadata": {
    "collapsed": true
   },
   "outputs": [],
   "source": []
  },
  {
   "cell_type": "code",
   "execution_count": null,
   "metadata": {
    "collapsed": true
   },
   "outputs": [],
   "source": []
  },
  {
   "cell_type": "code",
   "execution_count": null,
   "metadata": {
    "collapsed": true
   },
   "outputs": [],
   "source": []
  },
  {
   "cell_type": "code",
   "execution_count": null,
   "metadata": {
    "collapsed": true
   },
   "outputs": [],
   "source": []
  },
  {
   "cell_type": "code",
   "execution_count": null,
   "metadata": {
    "collapsed": true
   },
   "outputs": [],
   "source": []
  },
  {
   "cell_type": "code",
   "execution_count": null,
   "metadata": {
    "collapsed": true
   },
   "outputs": [],
   "source": []
  },
  {
   "cell_type": "code",
   "execution_count": null,
   "metadata": {
    "collapsed": true
   },
   "outputs": [],
   "source": []
  },
  {
   "cell_type": "code",
   "execution_count": null,
   "metadata": {
    "collapsed": true
   },
   "outputs": [],
   "source": []
  },
  {
   "cell_type": "code",
   "execution_count": null,
   "metadata": {
    "collapsed": true
   },
   "outputs": [],
   "source": []
  },
  {
   "cell_type": "code",
   "execution_count": null,
   "metadata": {
    "collapsed": true
   },
   "outputs": [],
   "source": []
  },
  {
   "cell_type": "code",
   "execution_count": 24,
   "metadata": {
    "collapsed": false
   },
   "outputs": [
    {
     "name": "stdout",
     "output_type": "stream",
     "text": [
      "Series([], dtype: float64)\n",
      "Series([], dtype: float64)\n"
     ]
    }
   ],
   "source": [
    "# Dates and Reports as Series\n",
    "date = pd.Series(date)\n",
    "reports = pd.Series(reports)\n",
    "print(date)\n",
    "print(reports)"
   ]
  },
  {
   "cell_type": "code",
   "execution_count": null,
   "metadata": {
    "collapsed": true
   },
   "outputs": [],
   "source": []
  },
  {
   "cell_type": "code",
   "execution_count": 16,
   "metadata": {
    "collapsed": true
   },
   "outputs": [],
   "source": [
    "# Concatenate into DataFrame\n",
    "legislative_df = pd.concat([date, reports], axis=1)"
   ]
  },
  {
   "cell_type": "code",
   "execution_count": 17,
   "metadata": {
    "collapsed": true
   },
   "outputs": [],
   "source": [
    "# Set up columns\n",
    "legislative_df.columns = ['Date', 'Reports']"
   ]
  },
  {
   "cell_type": "code",
   "execution_count": 20,
   "metadata": {
    "collapsed": false
   },
   "outputs": [
    {
     "data": {
      "text/html": [
       "<div>\n",
       "<table border=\"1\" class=\"dataframe\">\n",
       "  <thead>\n",
       "    <tr style=\"text-align: right;\">\n",
       "      <th></th>\n",
       "      <th>Date</th>\n",
       "      <th>Reports</th>\n",
       "    </tr>\n",
       "  </thead>\n",
       "  <tbody>\n",
       "  </tbody>\n",
       "</table>\n",
       "</div>"
      ],
      "text/plain": [
       "Empty DataFrame\n",
       "Columns: [Date, Reports]\n",
       "Index: []"
      ]
     },
     "execution_count": 20,
     "metadata": {},
     "output_type": "execute_result"
    }
   ],
   "source": [
    "# DataFrame\n",
    "legislative_df"
   ]
  },
  {
   "cell_type": "code",
   "execution_count": null,
   "metadata": {
    "collapsed": true
   },
   "outputs": [],
   "source": []
  },
  {
   "cell_type": "code",
   "execution_count": null,
   "metadata": {
    "collapsed": true
   },
   "outputs": [],
   "source": []
  },
  {
   "cell_type": "code",
   "execution_count": null,
   "metadata": {
    "collapsed": true
   },
   "outputs": [],
   "source": []
  },
  {
   "cell_type": "code",
   "execution_count": null,
   "metadata": {
    "collapsed": true
   },
   "outputs": [],
   "source": []
  },
  {
   "cell_type": "code",
   "execution_count": null,
   "metadata": {
    "collapsed": true
   },
   "outputs": [],
   "source": []
  },
  {
   "cell_type": "code",
   "execution_count": null,
   "metadata": {
    "collapsed": true
   },
   "outputs": [],
   "source": []
  },
  {
   "cell_type": "code",
   "execution_count": null,
   "metadata": {
    "collapsed": true
   },
   "outputs": [],
   "source": []
  },
  {
   "cell_type": "code",
   "execution_count": null,
   "metadata": {
    "collapsed": true
   },
   "outputs": [],
   "source": []
  }
 ],
 "metadata": {
  "kernelspec": {
   "display_name": "Python 3",
   "language": "python",
   "name": "python3"
  },
  "language_info": {
   "codemirror_mode": {
    "name": "ipython",
    "version": 3
   },
   "file_extension": ".py",
   "mimetype": "text/x-python",
   "name": "python",
   "nbconvert_exporter": "python",
   "pygments_lexer": "ipython3",
   "version": "3.5.1"
  }
 },
 "nbformat": 4,
 "nbformat_minor": 0
}
