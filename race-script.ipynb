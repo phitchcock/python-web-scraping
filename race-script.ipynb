{
 "cells": [
  {
   "cell_type": "code",
   "execution_count": 82,
   "metadata": {
    "collapsed": true
   },
   "outputs": [],
   "source": [
    "from bs4 import BeautifulSoup as bs\n",
    "import pandas as pd\n",
    "import requests\n",
    "import csv"
   ]
  },
  {
   "cell_type": "code",
   "execution_count": 83,
   "metadata": {
    "collapsed": false
   },
   "outputs": [],
   "source": [
    "url = \"http://tnetwork.trakus.com/tnet/t_NYRA.aspx\"\n",
    "response = requests.get(url)\n",
    "html = response.content"
   ]
  },
  {
   "cell_type": "code",
   "execution_count": 84,
   "metadata": {
    "collapsed": false
   },
   "outputs": [
    {
     "data": {
      "text/plain": [
       "<Response [200]>"
      ]
     },
     "execution_count": 84,
     "metadata": {},
     "output_type": "execute_result"
    }
   ],
   "source": [
    "params = {\"value\": \"5\"}\n",
    "post_form = requests.post(\"http://tnetwork.trakus.com/tnet/t_NYRA.aspx\", data=params)\n",
    "post_form"
   ]
  },
  {
   "cell_type": "code",
   "execution_count": 85,
   "metadata": {
    "collapsed": false
   },
   "outputs": [],
   "source": [
    "soup = bs(html, 'lxml')\n",
    "table = soup.find('table', attrs={'class': 'brandColorNYRA'})"
   ]
  },
  {
   "cell_type": "code",
   "execution_count": 86,
   "metadata": {
    "collapsed": false
   },
   "outputs": [],
   "source": [
    "rows = []"
   ]
  },
  {
   "cell_type": "code",
   "execution_count": 87,
   "metadata": {
    "collapsed": false
   },
   "outputs": [
    {
     "name": "stdout",
     "output_type": "stream",
     "text": [
      "Belmont Park Race 9              Purse                      $60,000November 1, 20156 Furlongs Inner TurfView Trakus T-Charts™ (Fractional Times)Race Summary1/4 Mile (POC)1/2 Mile (POC)5/8 Mile (POC)3/4 Mile (Finish)\n",
      "Jockey View   Aerial View   Side View\n",
      "        Start      1/41/25/8FinishAstrologist71/4 41/2 22.5533/4 46.6511 1/2 58.4211/4 1:10.92E J's Legacy8Head 12 24.1811Head 47.4141/4 58.922Neck 1:10.98Forgive5Head 83/4 23.2312 47.4151/4 58.9332 1/4 1:11.02Yummy Bear11/4 61 3/4 22.6261 1/4 47.0161 1/4 59.014Head 1:11.42Dearie12 114 23.60101/4 47.3593/4 59.2751/4 1:11.42Slapstick3Neck 21/2 22.2721 46.4521/4 58.6664 1:11.50Hopper Dropper4Head 72 1/2 22.8891 47.187Head 59.2272 1:12.23Discreet Mission2Neck 5Neck 22.615Head 46.9981/4 59.238Head 1:12.59Guaranteed6Head 101 1/2 23.387Head 47.15101/4 59.4292 1/2 1:12.61Indian Soldier101/4 11 22.1012 1/2 46.0831 1/2 58.69101/4 1:13.12Courageous Colonel111/4 91/4 23.3481/4 47.1812 59.73111/2 1:13.18Coach Potenza9Neck 31 1/4 22.3541 1/4 46.76111 3/4 59.4312 1:13.31\n",
      "        Start      1/41/25/8Finish\n",
      "Astrologist71/4 41/2 22.5533/4 46.6511 1/2 58.4211/4 1:10.92\n",
      "E J's Legacy8Head 12 24.1811Head 47.4141/4 58.922Neck 1:10.98\n",
      "Forgive5Head 83/4 23.2312 47.4151/4 58.9332 1/4 1:11.02\n",
      "Yummy Bear11/4 61 3/4 22.6261 1/4 47.0161 1/4 59.014Head 1:11.42\n",
      "Dearie12 114 23.60101/4 47.3593/4 59.2751/4 1:11.42\n",
      "Slapstick3Neck 21/2 22.2721 46.4521/4 58.6664 1:11.50\n",
      "Hopper Dropper4Head 72 1/2 22.8891 47.187Head 59.2272 1:12.23\n",
      "Discreet Mission2Neck 5Neck 22.615Head 46.9981/4 59.238Head 1:12.59\n",
      "Guaranteed6Head 101 1/2 23.387Head 47.15101/4 59.4292 1/2 1:12.61\n",
      "Indian Soldier101/4 11 22.1012 1/2 46.0831 1/2 58.69101/4 1:13.12\n",
      "Courageous Colonel111/4 91/4 23.3481/4 47.1812 59.73111/2 1:13.18\n",
      "Coach Potenza9Neck 31 1/4 22.3541 1/4 46.76111 3/4 59.4312 1:13.31\n",
      "              Race Notes: \n"
     ]
    }
   ],
   "source": [
    "for row in table.find_all('tr'):\n",
    "    print(row.get_text().replace('\\n', ''))\n",
    "    strip_row = row.get_text()\n",
    "    rows.append(strip_row)"
   ]
  },
  {
   "cell_type": "code",
   "execution_count": 88,
   "metadata": {
    "collapsed": true
   },
   "outputs": [],
   "source": [
    "df = pd.DataFrame(rows)"
   ]
  },
  {
   "cell_type": "code",
   "execution_count": 89,
   "metadata": {
    "collapsed": false
   },
   "outputs": [
    {
     "data": {
      "text/html": [
       "<div>\n",
       "<table border=\"1\" class=\"dataframe\">\n",
       "  <thead>\n",
       "    <tr style=\"text-align: right;\">\n",
       "      <th></th>\n",
       "      <th>0</th>\n",
       "    </tr>\n",
       "  </thead>\n",
       "  <tbody>\n",
       "    <tr>\n",
       "      <th>0</th>\n",
       "      <td>Belmont Park Race 9\\n              Purse\\n    ...</td>\n",
       "    </tr>\n",
       "    <tr>\n",
       "      <th>1</th>\n",
       "      <td>Jockey View   Aerial View   Side View</td>\n",
       "    </tr>\n",
       "    <tr>\n",
       "      <th>2</th>\n",
       "      <td>\\n        Start\\n      1/41/25/8FinishAstrolog...</td>\n",
       "    </tr>\n",
       "    <tr>\n",
       "      <th>3</th>\n",
       "      <td>\\n        Start\\n      1/41/25/8Finish</td>\n",
       "    </tr>\n",
       "    <tr>\n",
       "      <th>4</th>\n",
       "      <td>Astrologist71/4 41/2 22.5533/4 46.6511 1/2 58....</td>\n",
       "    </tr>\n",
       "    <tr>\n",
       "      <th>5</th>\n",
       "      <td>E J's Legacy8Head 12 24.1811Head 47.4141/4 58....</td>\n",
       "    </tr>\n",
       "    <tr>\n",
       "      <th>6</th>\n",
       "      <td>Forgive5Head 83/4 23.2312 47.4151/4 58.9332 1/...</td>\n",
       "    </tr>\n",
       "    <tr>\n",
       "      <th>7</th>\n",
       "      <td>Yummy Bear11/4 61 3/4 22.6261 1/4 47.0161 1/4 ...</td>\n",
       "    </tr>\n",
       "    <tr>\n",
       "      <th>8</th>\n",
       "      <td>Dearie12 114 23.60101/4 47.3593/4 59.2751/4 1:...</td>\n",
       "    </tr>\n",
       "    <tr>\n",
       "      <th>9</th>\n",
       "      <td>Slapstick3Neck 21/2 22.2721 46.4521/4 58.6664 ...</td>\n",
       "    </tr>\n",
       "    <tr>\n",
       "      <th>10</th>\n",
       "      <td>Hopper Dropper4Head 72 1/2 22.8891 47.187Head ...</td>\n",
       "    </tr>\n",
       "    <tr>\n",
       "      <th>11</th>\n",
       "      <td>Discreet Mission2Neck 5Neck 22.615Head 46.9981...</td>\n",
       "    </tr>\n",
       "    <tr>\n",
       "      <th>12</th>\n",
       "      <td>Guaranteed6Head 101 1/2 23.387Head 47.15101/4 ...</td>\n",
       "    </tr>\n",
       "    <tr>\n",
       "      <th>13</th>\n",
       "      <td>Indian Soldier101/4 11 22.1012 1/2 46.0831 1/2...</td>\n",
       "    </tr>\n",
       "    <tr>\n",
       "      <th>14</th>\n",
       "      <td>Courageous Colonel111/4 91/4 23.3481/4 47.1812...</td>\n",
       "    </tr>\n",
       "    <tr>\n",
       "      <th>15</th>\n",
       "      <td>Coach Potenza9Neck 31 1/4 22.3541 1/4 46.76111...</td>\n",
       "    </tr>\n",
       "    <tr>\n",
       "      <th>16</th>\n",
       "      <td>\\n              Race Notes:</td>\n",
       "    </tr>\n",
       "  </tbody>\n",
       "</table>\n",
       "</div>"
      ],
      "text/plain": [
       "                                                    0\n",
       "0   Belmont Park Race 9\\n              Purse\\n    ...\n",
       "1               Jockey View   Aerial View   Side View\n",
       "2   \\n        Start\\n      1/41/25/8FinishAstrolog...\n",
       "3              \\n        Start\\n      1/41/25/8Finish\n",
       "4   Astrologist71/4 41/2 22.5533/4 46.6511 1/2 58....\n",
       "5   E J's Legacy8Head 12 24.1811Head 47.4141/4 58....\n",
       "6   Forgive5Head 83/4 23.2312 47.4151/4 58.9332 1/...\n",
       "7   Yummy Bear11/4 61 3/4 22.6261 1/4 47.0161 1/4 ...\n",
       "8   Dearie12 114 23.60101/4 47.3593/4 59.2751/4 1:...\n",
       "9   Slapstick3Neck 21/2 22.2721 46.4521/4 58.6664 ...\n",
       "10  Hopper Dropper4Head 72 1/2 22.8891 47.187Head ...\n",
       "11  Discreet Mission2Neck 5Neck 22.615Head 46.9981...\n",
       "12  Guaranteed6Head 101 1/2 23.387Head 47.15101/4 ...\n",
       "13  Indian Soldier101/4 11 22.1012 1/2 46.0831 1/2...\n",
       "14  Courageous Colonel111/4 91/4 23.3481/4 47.1812...\n",
       "15  Coach Potenza9Neck 31 1/4 22.3541 1/4 46.76111...\n",
       "16                       \\n              Race Notes: "
      ]
     },
     "execution_count": 89,
     "metadata": {},
     "output_type": "execute_result"
    }
   ],
   "source": [
    "df"
   ]
  },
  {
   "cell_type": "code",
   "execution_count": 90,
   "metadata": {
    "collapsed": false
   },
   "outputs": [
    {
     "name": "stdout",
     "output_type": "stream",
     "text": [
      "[{\"index\":0,\"0\":\"Belmont Park Race 9\\n              Purse\\n              \\n        $60,000November 1, 20156 Furlongs Inner TurfView Trakus T-Charts\\u2122 (Fractional Times)Race Summary1\\/4 Mile (POC)1\\/2 Mile (POC)5\\/8 Mile (POC)3\\/4 Mile (Finish)\"},{\"index\":1,\"0\":\"Jockey View\\u00a0\\u00a0\\u00a0Aerial View\\u00a0\\u00a0\\u00a0Side View\"},{\"index\":2,\"0\":\"\\n        Start\\n      1\\/41\\/25\\/8FinishAstrologist71\\/4\\u00a041\\/2\\u00a022.5533\\/4\\u00a046.6511 1\\/2\\u00a058.4211\\/4\\u00a01:10.92E J's Legacy8Head\\u00a012\\u00a024.1811Head\\u00a047.4141\\/4\\u00a058.922Neck\\u00a01:10.98Forgive5Head\\u00a083\\/4\\u00a023.2312\\u00a047.4151\\/4\\u00a058.9332 1\\/4\\u00a01:11.02Yummy Bear11\\/4\\u00a061 3\\/4\\u00a022.6261 1\\/4\\u00a047.0161 1\\/4\\u00a059.014Head\\u00a01:11.42Dearie12\\u00a0114\\u00a023.60101\\/4\\u00a047.3593\\/4\\u00a059.2751\\/4\\u00a01:11.42Slapstick3Neck\\u00a021\\/2\\u00a022.2721\\u00a046.4521\\/4\\u00a058.6664\\u00a01:11.50Hopper Dropper4Head\\u00a072 1\\/2\\u00a022.8891\\u00a047.187Head\\u00a059.2272\\u00a01:12.23Discreet Mission2Neck\\u00a05Neck\\u00a022.615Head\\u00a046.9981\\/4\\u00a059.238Head\\u00a01:12.59Guaranteed6Head\\u00a0101 1\\/2\\u00a023.387Head\\u00a047.15101\\/4\\u00a059.4292 1\\/2\\u00a01:12.61Indian Soldier101\\/4\\u00a011\\u00a022.1012 1\\/2\\u00a046.0831 1\\/2\\u00a058.69101\\/4\\u00a01:13.12Courageous Colonel111\\/4\\u00a091\\/4\\u00a023.3481\\/4\\u00a047.1812\\u00a059.73111\\/2\\u00a01:13.18Coach Potenza9Neck\\u00a031 1\\/4\\u00a022.3541 1\\/4\\u00a046.76111 3\\/4\\u00a059.4312\\u00a01:13.31\"},{\"index\":3,\"0\":\"\\n        Start\\n      1\\/41\\/25\\/8Finish\"},{\"index\":4,\"0\":\"Astrologist71\\/4\\u00a041\\/2\\u00a022.5533\\/4\\u00a046.6511 1\\/2\\u00a058.4211\\/4\\u00a01:10.92\"},{\"index\":5,\"0\":\"E J's Legacy8Head\\u00a012\\u00a024.1811Head\\u00a047.4141\\/4\\u00a058.922Neck\\u00a01:10.98\"},{\"index\":6,\"0\":\"Forgive5Head\\u00a083\\/4\\u00a023.2312\\u00a047.4151\\/4\\u00a058.9332 1\\/4\\u00a01:11.02\"},{\"index\":7,\"0\":\"Yummy Bear11\\/4\\u00a061 3\\/4\\u00a022.6261 1\\/4\\u00a047.0161 1\\/4\\u00a059.014Head\\u00a01:11.42\"},{\"index\":8,\"0\":\"Dearie12\\u00a0114\\u00a023.60101\\/4\\u00a047.3593\\/4\\u00a059.2751\\/4\\u00a01:11.42\"},{\"index\":9,\"0\":\"Slapstick3Neck\\u00a021\\/2\\u00a022.2721\\u00a046.4521\\/4\\u00a058.6664\\u00a01:11.50\"},{\"index\":10,\"0\":\"Hopper Dropper4Head\\u00a072 1\\/2\\u00a022.8891\\u00a047.187Head\\u00a059.2272\\u00a01:12.23\"},{\"index\":11,\"0\":\"Discreet Mission2Neck\\u00a05Neck\\u00a022.615Head\\u00a046.9981\\/4\\u00a059.238Head\\u00a01:12.59\"},{\"index\":12,\"0\":\"Guaranteed6Head\\u00a0101 1\\/2\\u00a023.387Head\\u00a047.15101\\/4\\u00a059.4292 1\\/2\\u00a01:12.61\"},{\"index\":13,\"0\":\"Indian Soldier101\\/4\\u00a011\\u00a022.1012 1\\/2\\u00a046.0831 1\\/2\\u00a058.69101\\/4\\u00a01:13.12\"},{\"index\":14,\"0\":\"Courageous Colonel111\\/4\\u00a091\\/4\\u00a023.3481\\/4\\u00a047.1812\\u00a059.73111\\/2\\u00a01:13.18\"},{\"index\":15,\"0\":\"Coach Potenza9Neck\\u00a031 1\\/4\\u00a022.3541 1\\/4\\u00a046.76111 3\\/4\\u00a059.4312\\u00a01:13.31\"},{\"index\":16,\"0\":\"\\n              Race Notes: \"}]\n"
     ]
    }
   ],
   "source": [
    "print(df.reset_index().to_json(orient='records'))"
   ]
  },
  {
   "cell_type": "code",
   "execution_count": null,
   "metadata": {
    "collapsed": true
   },
   "outputs": [],
   "source": []
  }
 ],
 "metadata": {
  "kernelspec": {
   "display_name": "Python 2",
   "language": "python",
   "name": "python2"
  },
  "language_info": {
   "codemirror_mode": {
    "name": "ipython",
    "version": 2
   },
   "file_extension": ".py",
   "mimetype": "text/x-python",
   "name": "python",
   "nbconvert_exporter": "python",
   "pygments_lexer": "ipython2",
   "version": "2.7.11"
  }
 },
 "nbformat": 4,
 "nbformat_minor": 0
}
